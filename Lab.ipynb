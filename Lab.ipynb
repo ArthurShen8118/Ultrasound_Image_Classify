{
  "nbformat": 4,
  "nbformat_minor": 0,
  "metadata": {
    "colab": {
      "name": "Untitled10.ipynb",
      "provenance": [],
      "collapsed_sections": [],
      "authorship_tag": "ABX9TyNXROMHo24j/W4m2Sx8o9Wv",
      "include_colab_link": true
    },
    "kernelspec": {
      "name": "python3",
      "display_name": "Python 3"
    }
  },
  "cells": [
    {
      "cell_type": "markdown",
      "metadata": {
        "id": "view-in-github",
        "colab_type": "text"
      },
      "source": [
        "<a href=\"https://colab.research.google.com/github/ArthurShen8118/Ultrasound_Image_Classify/blob/main/Lab.ipynb\" target=\"_parent\"><img src=\"https://colab.research.google.com/assets/colab-badge.svg\" alt=\"Open In Colab\"/></a>"
      ]
    },
    {
      "cell_type": "code",
      "metadata": {
        "id": "HraxWjP0xIpy",
        "outputId": "7b4cae06-2569-4f0c-da05-09854efc6ff1",
        "colab": {
          "base_uri": "https://localhost:8080/",
          "height": 901
        }
      },
      "source": [
        "\n",
        "# Part 1 - Building the CNN\n",
        "\n",
        "# Importing the Keras libraries and packages\n",
        "from keras.models import Sequential\n",
        "from keras.layers import Conv2D\n",
        "from keras.layers import MaxPooling2D\n",
        "from keras.layers import Flatten\n",
        "from keras.layers import Dense, Dropout\n",
        "\n",
        "# Initialising the CNN\n",
        "classifier = Sequential()\n",
        "\n",
        "# Step 1 - Convolution\n",
        "classifier.add(Conv2D(32, (3, 3), input_shape = (64, 64, 3), activation = 'relu'))\n",
        "\n",
        "# Step 2 - Pooling\n",
        "classifier.add(MaxPooling2D(pool_size = (2, 2)))\n",
        "\n",
        "\n",
        "classifier.add(Conv2D(32, (3, 3), activation = 'relu'))\n",
        "classifier.add(MaxPooling2D(pool_size = (2, 2)))\n",
        "\n",
        "# Adding a second convolutional layer\n",
        "classifier.add(Conv2D(32, (3, 3), activation = 'relu'))\n",
        "classifier.add(MaxPooling2D(pool_size = (2, 2)))\n",
        "\n",
        "\n",
        "\n",
        "# Step 3 - Flattening\n",
        "classifier.add(Flatten())\n",
        "\n",
        "\n",
        "# Step 4 - Full connection\n",
        "classifier.add(Dense(units = 64, activation = 'relu'))\n",
        "classifier.add(Dense(units = 128, activation = 'relu'))\n",
        "classifier.add(Dense(units = 1, activation = 'sigmoid'))\n",
        "\n",
        "\n",
        "\n",
        "# Compiling the CNN\n",
        "classifier.compile(optimizer = 'adam', loss = 'binary_crossentropy', metrics = ['accuracy'])\n",
        "\n",
        "# Part 2 - Fitting the CNN to the images\n",
        "\n",
        "from keras.preprocessing.image import ImageDataGenerator\n",
        "\n",
        "train_datagen = ImageDataGenerator(rescale = 1./255,\n",
        "                                   shear_range = 0.2,\n",
        "                                   zoom_range = 0.2,\n",
        "                                   horizontal_flip = True)\n",
        "\n",
        "test_datagen = ImageDataGenerator(rescale = 1./255)\n",
        "\n",
        "training_set = train_datagen.flow_from_directory('/content/drive/My Drive/dataset/training_set',\n",
        "                                                 target_size = (64, 64),\n",
        "                                                 batch_size = 1,\n",
        "                                                 class_mode = 'binary')\n",
        "\n",
        "test_set = test_datagen.flow_from_directory('/content/drive/My Drive/dataset/test_set',\n",
        "                                            target_size = (64, 64),\n",
        "                                            batch_size = 1,\n",
        "                                            class_mode = 'binary')\n",
        "\n",
        "history=classifier.fit_generator(training_set,\n",
        "                         steps_per_epoch = 152,\n",
        "                         epochs = 25,\n",
        "                         validation_data = test_set,\n",
        "                         validation_steps = 20)\n",
        "\n"
      ],
      "execution_count": 3,
      "outputs": [
        {
          "output_type": "stream",
          "text": [
            "Found 152 images belonging to 2 classes.\n",
            "Found 20 images belonging to 2 classes.\n",
            "Epoch 1/25\n",
            "152/152 [==============================] - 4s 24ms/step - loss: 0.5500 - accuracy: 0.8224 - val_loss: 1.4329 - val_accuracy: 0.5000\n",
            "Epoch 2/25\n",
            "152/152 [==============================] - 3s 23ms/step - loss: 0.5489 - accuracy: 0.8289 - val_loss: 7.2326 - val_accuracy: 0.5000\n",
            "Epoch 3/25\n",
            "152/152 [==============================] - 3s 22ms/step - loss: 0.6154 - accuracy: 0.8289 - val_loss: 1.2031 - val_accuracy: 0.5000\n",
            "Epoch 4/25\n",
            "152/152 [==============================] - 3s 23ms/step - loss: 0.4590 - accuracy: 0.8289 - val_loss: 0.8458 - val_accuracy: 0.5000\n",
            "Epoch 5/25\n",
            "152/152 [==============================] - 3s 23ms/step - loss: 0.3861 - accuracy: 0.8355 - val_loss: 0.2994 - val_accuracy: 0.9000\n",
            "Epoch 6/25\n",
            "152/152 [==============================] - 3s 23ms/step - loss: 0.3600 - accuracy: 0.8553 - val_loss: 0.5770 - val_accuracy: 0.6000\n",
            "Epoch 7/25\n",
            "152/152 [==============================] - 4s 24ms/step - loss: 0.2981 - accuracy: 0.8684 - val_loss: 0.5160 - val_accuracy: 0.6500\n",
            "Epoch 8/25\n",
            "152/152 [==============================] - 4s 23ms/step - loss: 0.2767 - accuracy: 0.8750 - val_loss: 0.4075 - val_accuracy: 0.8500\n",
            "Epoch 9/25\n",
            "152/152 [==============================] - 4s 23ms/step - loss: 0.2489 - accuracy: 0.9013 - val_loss: 0.1351 - val_accuracy: 0.9500\n",
            "Epoch 10/25\n",
            "152/152 [==============================] - 3s 23ms/step - loss: 0.2473 - accuracy: 0.8947 - val_loss: 0.2448 - val_accuracy: 0.9500\n",
            "Epoch 11/25\n",
            "152/152 [==============================] - 3s 23ms/step - loss: 0.2216 - accuracy: 0.9079 - val_loss: 0.2008 - val_accuracy: 1.0000\n",
            "Epoch 12/25\n",
            "152/152 [==============================] - 3s 23ms/step - loss: 0.2420 - accuracy: 0.9013 - val_loss: 0.1611 - val_accuracy: 0.9500\n",
            "Epoch 13/25\n",
            "152/152 [==============================] - 3s 23ms/step - loss: 0.2230 - accuracy: 0.8947 - val_loss: 0.2191 - val_accuracy: 1.0000\n",
            "Epoch 14/25\n",
            "152/152 [==============================] - 3s 22ms/step - loss: 0.2222 - accuracy: 0.9145 - val_loss: 0.2754 - val_accuracy: 0.9000\n",
            "Epoch 15/25\n",
            "152/152 [==============================] - 3s 23ms/step - loss: 0.2242 - accuracy: 0.8947 - val_loss: 0.3929 - val_accuracy: 0.9000\n",
            "Epoch 16/25\n",
            "152/152 [==============================] - 3s 23ms/step - loss: 0.1762 - accuracy: 0.9342 - val_loss: 0.3929 - val_accuracy: 0.9000\n",
            "Epoch 17/25\n",
            "152/152 [==============================] - 3s 23ms/step - loss: 0.2471 - accuracy: 0.8947 - val_loss: 0.2769 - val_accuracy: 0.9000\n",
            "Epoch 18/25\n",
            "152/152 [==============================] - 3s 23ms/step - loss: 0.1931 - accuracy: 0.9145 - val_loss: 0.3965 - val_accuracy: 0.7500\n",
            "Epoch 19/25\n",
            "152/152 [==============================] - 3s 23ms/step - loss: 0.2630 - accuracy: 0.8750 - val_loss: 0.2371 - val_accuracy: 0.9500\n",
            "Epoch 20/25\n",
            "152/152 [==============================] - 3s 23ms/step - loss: 0.2037 - accuracy: 0.9145 - val_loss: 0.2527 - val_accuracy: 0.9500\n",
            "Epoch 21/25\n",
            "152/152 [==============================] - 3s 23ms/step - loss: 0.1976 - accuracy: 0.9342 - val_loss: 0.1099 - val_accuracy: 1.0000\n",
            "Epoch 22/25\n",
            "152/152 [==============================] - 3s 23ms/step - loss: 0.2277 - accuracy: 0.9079 - val_loss: 0.2732 - val_accuracy: 0.9000\n",
            "Epoch 23/25\n",
            "152/152 [==============================] - 3s 23ms/step - loss: 0.2004 - accuracy: 0.9211 - val_loss: 0.1408 - val_accuracy: 0.9500\n",
            "Epoch 24/25\n",
            "152/152 [==============================] - 3s 23ms/step - loss: 0.1735 - accuracy: 0.9474 - val_loss: 0.5612 - val_accuracy: 0.8000\n",
            "Epoch 25/25\n",
            "152/152 [==============================] - 3s 23ms/step - loss: 0.2445 - accuracy: 0.9211 - val_loss: 0.2298 - val_accuracy: 0.9000\n"
          ],
          "name": "stdout"
        }
      ]
    },
    {
      "cell_type": "code",
      "metadata": {
        "id": "gpa4BJOmygvh",
        "outputId": "82f53ec5-5660-4510-a43e-197be4abb7e2",
        "colab": {
          "base_uri": "https://localhost:8080/",
          "height": 156
        }
      },
      "source": [
        "classifier.save('model')"
      ],
      "execution_count": 11,
      "outputs": [
        {
          "output_type": "stream",
          "text": [
            "WARNING:tensorflow:From /usr/local/lib/python3.6/dist-packages/tensorflow/python/training/tracking/tracking.py:111: Model.state_updates (from tensorflow.python.keras.engine.training) is deprecated and will be removed in a future version.\n",
            "Instructions for updating:\n",
            "This property should not be used in TensorFlow 2.0, as updates are applied automatically.\n",
            "WARNING:tensorflow:From /usr/local/lib/python3.6/dist-packages/tensorflow/python/training/tracking/tracking.py:111: Layer.updates (from tensorflow.python.keras.engine.base_layer) is deprecated and will be removed in a future version.\n",
            "Instructions for updating:\n",
            "This property should not be used in TensorFlow 2.0, as updates are applied automatically.\n",
            "INFO:tensorflow:Assets written to: model/assets\n"
          ],
          "name": "stdout"
        }
      ]
    },
    {
      "cell_type": "code",
      "metadata": {
        "id": "evXUEEXpO1wV"
      },
      "source": [
        "from sklearn.metrics import confusion_matrix\n",
        "cm = confusion_matrix(y_test, y_pred)\n"
      ],
      "execution_count": null,
      "outputs": []
    },
    {
      "cell_type": "code",
      "metadata": {
        "id": "g5JgNfhy0L_-",
        "outputId": "166c4798-29d0-4f55-ad1e-b7c08301b1ba",
        "colab": {
          "base_uri": "https://localhost:8080/",
          "height": 35
        }
      },
      "source": [
        "# Part 3 - Making new predictions\n",
        "\n",
        "import numpy as np\n",
        "from keras.preprocessing import image\n",
        "test_image = image.load_img('/content/drive/My Drive/dataset/single_prediction/B mode with ROI2_8.tif', target_size = (64, 64))\n",
        "test_image = image.img_to_array(test_image)\n",
        "test_image = np.expand_dims(test_image, axis = 0)\n",
        "result = classifier.predict(test_image)\n",
        "training_set.class_indices\n",
        "if result[0][0] == 1:\n",
        "    prediction = 'Normal'\n",
        "else:\n",
        "    prediction = 'DMD'\n",
        "\n",
        "\n",
        "\n",
        "prediction"
      ],
      "execution_count": 28,
      "outputs": [
        {
          "output_type": "execute_result",
          "data": {
            "application/vnd.google.colaboratory.intrinsic+json": {
              "type": "string"
            },
            "text/plain": [
              "'DMD'"
            ]
          },
          "metadata": {
            "tags": []
          },
          "execution_count": 28
        }
      ]
    },
    {
      "cell_type": "code",
      "metadata": {
        "id": "0tcz56W82JEI",
        "outputId": "d22eff3e-b79f-40b1-fc6a-4a79b06b851d",
        "colab": {
          "base_uri": "https://localhost:8080/",
          "height": 848
        }
      },
      "source": [
        "from sklearn.metrics import classification_report, confusion_matrix\n",
        "from keras.models import Sequential\n",
        "from keras.layers import Conv2D,Activation,MaxPooling2D,Dense,Flatten,Dropout\n",
        "import numpy as np\n",
        "from keras.preprocessing.image import ImageDataGenerator\n",
        "from IPython.display import display\n",
        "import matplotlib.pyplot as plt\n",
        "from PIL import Image\n",
        "from sklearn.metrics import classification_report, confusion_matrix\n",
        "\n",
        "\n",
        "\n",
        "Y_pred = classifier.predict_generator(test_set, steps=20 // 1)\n",
        "y_pred = np.argmax(Y_pred, axis=1)\n",
        "print('Confusion Matrix')\n",
        "print(confusion_matrix(test_set.classes, y_pred))\n",
        "print('Classification Report')\n",
        "target_names = test_set.classes\n",
        "class_labels = list(test_set.class_indices.keys())   \n",
        "report = classification_report(target_names, y_pred, target_names=class_labels)\n",
        "print(report) \n",
        "\n",
        "# summarize history for accuracy\n",
        "plt.plot(history.history['accuracy'])\n",
        "plt.plot(history.history['val_accuracy'])\n",
        "plt.title('model accuracy')\n",
        "plt.ylabel('accuracy')\n",
        "plt.xlabel('epoch')\n",
        "plt.legend(['train', 'test'], loc='upper left')\n",
        "\n",
        "plt.savefig('1.jpg')\n",
        "plt.show()\n",
        "\n",
        "# summarize history for loss\n",
        "plt.plot(history.history['loss'])\n",
        "plt.plot(history.history['val_loss'])\n",
        "plt.title('model loss')\n",
        "plt.ylabel('loss')\n",
        "plt.xlabel('epoch')\n",
        "plt.legend(['train', 'test'], loc='upper left')\n",
        "\n",
        "plt.savefig('2.jpg')"
      ],
      "execution_count": 10,
      "outputs": [
        {
          "output_type": "stream",
          "text": [
            "Confusion Matrix\n",
            "[[10  0]\n",
            " [10  0]]\n",
            "Classification Report\n",
            "              precision    recall  f1-score   support\n",
            "\n",
            "         dmd       0.50      1.00      0.67        10\n",
            "      normal       0.00      0.00      0.00        10\n",
            "\n",
            "    accuracy                           0.50        20\n",
            "   macro avg       0.25      0.50      0.33        20\n",
            "weighted avg       0.25      0.50      0.33        20\n",
            "\n"
          ],
          "name": "stdout"
        },
        {
          "output_type": "stream",
          "text": [
            "/usr/local/lib/python3.6/dist-packages/sklearn/metrics/_classification.py:1272: UndefinedMetricWarning: Precision and F-score are ill-defined and being set to 0.0 in labels with no predicted samples. Use `zero_division` parameter to control this behavior.\n",
            "  _warn_prf(average, modifier, msg_start, len(result))\n"
          ],
          "name": "stderr"
        },
        {
          "output_type": "display_data",
          "data": {
            "image/png": "[encoded data removed]",
            "text/plain": [
              "<Figure size 432x288 with 1 Axes>"
            ]
          },
          "metadata": {
            "tags": [],
            "needs_background": "light"
          }
        },
        {
          "output_type": "display_data",
          "data": {
            "image/png": "[encoded data removed]",
            "text/plain": [
              "<Figure size 432x288 with 1 Axes>"
            ]
          },
          "metadata": {
            "tags": [],
            "needs_background": "light"
          }
        }
      ]
    },
    {
      "cell_type": "code",
      "metadata": {
        "id": "z0q6uKkN1_NP",
        "outputId": "7be34976-6b80-4a36-8143-a00ecc6b2cab",
        "colab": {
          "base_uri": "https://localhost:8080/",
          "height": 350
        }
      },
      "source": [
        "# Diagram\n",
        "\n",
        "import numpy as np\n",
        "import matplotlib.pyplot as plt\n",
        "import pandas as pd\n",
        "\n",
        "def show_train_history (train_history,train,validation):\n",
        "    \n",
        "    \n",
        "    plt.plot(train_history.history[train])\n",
        "    plt.plot(train_history.history[validation])\n",
        "    plt.title(\"Train History\")\n",
        "    plt.ylabel(train)\n",
        "    plt.xlabel(\"Epoch\")\n",
        "    plt.legend(['train', 'validation'], loc='upper left')\n",
        "    plt.show()\n",
        "    \n",
        "\n",
        "show_train_history(classifier,'accuracy','val_accuracy')\n",
        "\n",
        "\n",
        "\n"
      ],
      "execution_count": 2,
      "outputs": [
        {
          "output_type": "error",
          "ename": "TypeError",
          "evalue": "ignored",
          "traceback": [
            "\u001b[0;31m---------------------------------------------------------------------------\u001b[0m",
            "\u001b[0;31mTypeError\u001b[0m                                 Traceback (most recent call last)",
            "\u001b[0;32m<ipython-input-2-8148f42c07e4>\u001b[0m in \u001b[0;36m<module>\u001b[0;34m()\u001b[0m\n\u001b[1;32m     17\u001b[0m \u001b[0;34m\u001b[0m\u001b[0m\n\u001b[1;32m     18\u001b[0m \u001b[0;34m\u001b[0m\u001b[0m\n\u001b[0;32m---> 19\u001b[0;31m \u001b[0mshow_train_history\u001b[0m\u001b[0;34m(\u001b[0m\u001b[0mclassifier\u001b[0m\u001b[0;34m,\u001b[0m\u001b[0;34m'accuracy'\u001b[0m\u001b[0;34m,\u001b[0m\u001b[0;34m'val_accuracy'\u001b[0m\u001b[0;34m)\u001b[0m\u001b[0;34m\u001b[0m\u001b[0;34m\u001b[0m\u001b[0m\n\u001b[0m\u001b[1;32m     20\u001b[0m \u001b[0;34m\u001b[0m\u001b[0m\n\u001b[1;32m     21\u001b[0m \u001b[0;34m\u001b[0m\u001b[0m\n",
            "\u001b[0;32m<ipython-input-2-8148f42c07e4>\u001b[0m in \u001b[0;36mshow_train_history\u001b[0;34m(train_history, train, validation)\u001b[0m\n\u001b[1;32m      8\u001b[0m \u001b[0;34m\u001b[0m\u001b[0m\n\u001b[1;32m      9\u001b[0m \u001b[0;34m\u001b[0m\u001b[0m\n\u001b[0;32m---> 10\u001b[0;31m     \u001b[0mplt\u001b[0m\u001b[0;34m.\u001b[0m\u001b[0mplot\u001b[0m\u001b[0;34m(\u001b[0m\u001b[0mtrain_history\u001b[0m\u001b[0;34m.\u001b[0m\u001b[0mhistory\u001b[0m\u001b[0;34m[\u001b[0m\u001b[0mtrain\u001b[0m\u001b[0;34m]\u001b[0m\u001b[0;34m)\u001b[0m\u001b[0;34m\u001b[0m\u001b[0;34m\u001b[0m\u001b[0m\n\u001b[0m\u001b[1;32m     11\u001b[0m     \u001b[0mplt\u001b[0m\u001b[0;34m.\u001b[0m\u001b[0mplot\u001b[0m\u001b[0;34m(\u001b[0m\u001b[0mtrain_history\u001b[0m\u001b[0;34m.\u001b[0m\u001b[0mhistory\u001b[0m\u001b[0;34m[\u001b[0m\u001b[0mvalidation\u001b[0m\u001b[0;34m]\u001b[0m\u001b[0;34m)\u001b[0m\u001b[0;34m\u001b[0m\u001b[0;34m\u001b[0m\u001b[0m\n\u001b[1;32m     12\u001b[0m     \u001b[0mplt\u001b[0m\u001b[0;34m.\u001b[0m\u001b[0mtitle\u001b[0m\u001b[0;34m(\u001b[0m\u001b[0;34m\"Train History\"\u001b[0m\u001b[0;34m)\u001b[0m\u001b[0;34m\u001b[0m\u001b[0;34m\u001b[0m\u001b[0m\n",
            "\u001b[0;31mTypeError\u001b[0m: 'History' object is not subscriptable"
          ]
        }
      ]
    }
  ]
}